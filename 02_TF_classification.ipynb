{
 "cells": [
  {
   "cell_type": "markdown",
   "metadata": {
    "id": "jYysdyb-CaWM"
   },
   "source": [
    "# Klasyfikacja zdjęć"
   ]
  },
  {
   "cell_type": "markdown",
   "metadata": {},
   "source": [
    "[source](https://www.tensorflow.org/tutorials/keras/classification)"
   ]
  },
  {
   "cell_type": "code",
   "execution_count": 1,
   "metadata": {
    "colab": {
     "base_uri": "https://localhost:8080/"
    },
    "executionInfo": {
     "elapsed": 3811,
     "status": "ok",
     "timestamp": 1668587662079,
     "user": {
      "displayName": "Kamil Pabijan",
      "userId": "18001500138958413010"
     },
     "user_tz": -60
    },
    "id": "dzLKpmZICaWN",
    "outputId": "fc19219c-0225-4dce-d5c6-ec11d7040a96"
   },
   "outputs": [
    {
     "name": "stdout",
     "output_type": "stream",
     "text": [
      "2.9.2\n"
     ]
    }
   ],
   "source": [
    "# TensorFlow and tf.keras\n",
    "import tensorflow as tf\n",
    "\n",
    "# Helper libraries\n",
    "import numpy as np\n",
    "import matplotlib.pyplot as plt\n",
    "\n",
    "print(tf.__version__)"
   ]
  },
  {
   "cell_type": "markdown",
   "metadata": {
    "id": "yR0EdgrLCaWR"
   },
   "source": [
    "## Wczytywanie zbioru danych MNIST"
   ]
  },
  {
   "cell_type": "markdown",
   "metadata": {
    "id": "DLdCchMdCaWQ"
   },
   "source": [
    "Dataset: [Fashion MNIST](https://github.com/zalandoresearch/fashion-mnist) \n",
    "\n",
    "Dataset zawiera 70k ograzków w skali szarości sklasyfikowanych w 10 kategori. \n",
    "\n",
    "<table>\n",
    "  <tr><td>\n",
    "    <img src=\"https://tensorflow.org/images/fashion-mnist-sprite.png\"\n",
    "         alt=\"Fashion MNIST sprite\"  width=\"600\">\n",
    "  </td></tr>\n",
    "  <tr><td align=\"center\">\n",
    "    <b>Figure 1.</b> <a href=\"https://github.com/zalandoresearch/fashion-mnist\">Fashion-MNIST samples</a> (by Zalando, MIT License).<br/>&nbsp;\n",
    "  </td></tr>\n",
    "</table>\n"
   ]
  },
  {
   "cell_type": "code",
   "execution_count": 2,
   "metadata": {
    "colab": {
     "base_uri": "https://localhost:8080/"
    },
    "executionInfo": {
     "elapsed": 2667,
     "status": "ok",
     "timestamp": 1668587671913,
     "user": {
      "displayName": "Kamil Pabijan",
      "userId": "18001500138958413010"
     },
     "user_tz": -60
    },
    "id": "7MqDQO0KCaWS",
    "outputId": "38957444-2138-4fa7-93a7-e6b79a9da752"
   },
   "outputs": [],
   "source": [
    "fashion_mnist = tf.keras.datasets.fashion_mnist\n",
    "\n",
    "(train_images, train_labels), (test_images, test_labels) = fashion_mnist.load_data()"
   ]
  },
  {
   "cell_type": "markdown",
   "metadata": {
    "id": "t9FDsUlxCaWW"
   },
   "source": [
    "Loading the dataset returns four NumPy arrays:\n",
    "Wczytaniy dataset zwróci 4 tablice NumPy:\n",
    "\n",
    "* `train_images` i `train_labels` - *training set*\n",
    "* `test_images` i `test_labels` -*test set*\n",
    "\n",
    "Tablice: 28x28, wartości od 0 do 255 (pixele).\n",
    "\n",
    "*labels* - wartości od 0 do 9, które reprezentują:\n",
    "\n",
    "<table>\n",
    "  <tr>\n",
    "    <th>Label</th>\n",
    "    <th>Class</th>\n",
    "  </tr>\n",
    "  <tr>\n",
    "    <td>0</td>\n",
    "    <td>T-shirt/top</td>\n",
    "  </tr>\n",
    "  <tr>\n",
    "    <td>1</td>\n",
    "    <td>Trouser</td>\n",
    "  </tr>\n",
    "    <tr>\n",
    "    <td>2</td>\n",
    "    <td>Pullover</td>\n",
    "  </tr>\n",
    "    <tr>\n",
    "    <td>3</td>\n",
    "    <td>Dress</td>\n",
    "  </tr>\n",
    "    <tr>\n",
    "    <td>4</td>\n",
    "    <td>Coat</td>\n",
    "  </tr>\n",
    "    <tr>\n",
    "    <td>5</td>\n",
    "    <td>Sandal</td>\n",
    "  </tr>\n",
    "    <tr>\n",
    "    <td>6</td>\n",
    "    <td>Shirt</td>\n",
    "  </tr>\n",
    "    <tr>\n",
    "    <td>7</td>\n",
    "    <td>Sneaker</td>\n",
    "  </tr>\n",
    "    <tr>\n",
    "    <td>8</td>\n",
    "    <td>Bag</td>\n",
    "  </tr>\n",
    "    <tr>\n",
    "    <td>9</td>\n",
    "    <td>Ankle boot</td>\n",
    "  </tr>\n",
    "</table>\n"
   ]
  },
  {
   "cell_type": "code",
   "execution_count": 3,
   "metadata": {
    "executionInfo": {
     "elapsed": 386,
     "status": "ok",
     "timestamp": 1668587683100,
     "user": {
      "displayName": "Kamil Pabijan",
      "userId": "18001500138958413010"
     },
     "user_tz": -60
    },
    "id": "IjnLH5S2CaWx"
   },
   "outputs": [],
   "source": [
    "class_names = ['T-shirt/top', 'Trouser', 'Pullover', 'Dress', 'Coat',\n",
    "               'Sandal', 'Shirt', 'Sneaker', 'Bag', 'Ankle boot']"
   ]
  },
  {
   "cell_type": "markdown",
   "metadata": {
    "id": "Brm0b_KACaWX"
   },
   "source": [
    "## Eksploracja danych"
   ]
  },
  {
   "cell_type": "markdown",
   "metadata": {},
   "source": [
    "Rozmiar całego zbioru treningowego"
   ]
  },
  {
   "cell_type": "code",
   "execution_count": 4,
   "metadata": {
    "colab": {
     "base_uri": "https://localhost:8080/"
    },
    "executionInfo": {
     "elapsed": 362,
     "status": "ok",
     "timestamp": 1668587687936,
     "user": {
      "displayName": "Kamil Pabijan",
      "userId": "18001500138958413010"
     },
     "user_tz": -60
    },
    "id": "zW5k_xz1CaWX",
    "outputId": "7e77413f-db95-4e10-ff82-6a92b08c2e67"
   },
   "outputs": [
    {
     "data": {
      "text/plain": [
       "(60000, 28, 28)"
      ]
     },
     "execution_count": 4,
     "metadata": {},
     "output_type": "execute_result"
    }
   ],
   "source": [
    "train_images.shape"
   ]
  },
  {
   "cell_type": "markdown",
   "metadata": {
    "id": "cIAcvQqMCaWf"
   },
   "source": [
    "Wielkość *labeli* zbioru treningowego"
   ]
  },
  {
   "cell_type": "code",
   "execution_count": 5,
   "metadata": {
    "colab": {
     "base_uri": "https://localhost:8080/"
    },
    "executionInfo": {
     "elapsed": 275,
     "status": "ok",
     "timestamp": 1668587690684,
     "user": {
      "displayName": "Kamil Pabijan",
      "userId": "18001500138958413010"
     },
     "user_tz": -60
    },
    "id": "TRFYHB2mCaWb",
    "outputId": "b4f2c2e0-8937-4dbb-e6d1-4e876de3d093"
   },
   "outputs": [
    {
     "data": {
      "text/plain": [
       "60000"
      ]
     },
     "execution_count": 5,
     "metadata": {},
     "output_type": "execute_result"
    }
   ],
   "source": [
    "len(train_labels)"
   ]
  },
  {
   "cell_type": "markdown",
   "metadata": {
    "id": "YSlYxFuRCaWk"
   },
   "source": [
    "Wartości są z przedziału od 0 do 9"
   ]
  },
  {
   "cell_type": "code",
   "execution_count": 6,
   "metadata": {
    "colab": {
     "base_uri": "https://localhost:8080/"
    },
    "executionInfo": {
     "elapsed": 370,
     "status": "ok",
     "timestamp": 1668587695194,
     "user": {
      "displayName": "Kamil Pabijan",
      "userId": "18001500138958413010"
     },
     "user_tz": -60
    },
    "id": "XKnCTHz4CaWg",
    "outputId": "bc273522-b560-4dd6-b3f9-20ca197dd2e6"
   },
   "outputs": [
    {
     "data": {
      "text/plain": [
       "array([9, 0, 0, ..., 3, 0, 5], dtype=uint8)"
      ]
     },
     "execution_count": 6,
     "metadata": {},
     "output_type": "execute_result"
    }
   ],
   "source": [
    "train_labels"
   ]
  },
  {
   "cell_type": "code",
   "execution_count": 7,
   "metadata": {},
   "outputs": [
    {
     "data": {
      "text/plain": [
       "array([0, 1, 2, 3, 4, 5, 6, 7, 8, 9], dtype=uint8)"
      ]
     },
     "execution_count": 7,
     "metadata": {},
     "output_type": "execute_result"
    }
   ],
   "source": [
    "np.unique(train_labels)"
   ]
  },
  {
   "cell_type": "markdown",
   "metadata": {
    "id": "TMPI88iZpO2T"
   },
   "source": [
    "Podobnie dla zbioru testowego"
   ]
  },
  {
   "cell_type": "code",
   "execution_count": 8,
   "metadata": {
    "colab": {
     "base_uri": "https://localhost:8080/"
    },
    "executionInfo": {
     "elapsed": 4,
     "status": "ok",
     "timestamp": 1668587698688,
     "user": {
      "displayName": "Kamil Pabijan",
      "userId": "18001500138958413010"
     },
     "user_tz": -60
    },
    "id": "2KFnYlcwCaWl",
    "outputId": "ad5c565f-523e-43b9-bc4e-5ae5cc3fa498"
   },
   "outputs": [
    {
     "data": {
      "text/plain": [
       "(10000, 28, 28)"
      ]
     },
     "execution_count": 8,
     "metadata": {},
     "output_type": "execute_result"
    }
   ],
   "source": [
    "test_images.shape"
   ]
  },
  {
   "cell_type": "code",
   "execution_count": 9,
   "metadata": {
    "colab": {
     "base_uri": "https://localhost:8080/"
    },
    "executionInfo": {
     "elapsed": 630,
     "status": "ok",
     "timestamp": 1668587701885,
     "user": {
      "displayName": "Kamil Pabijan",
      "userId": "18001500138958413010"
     },
     "user_tz": -60
    },
    "id": "iJmPr5-ACaWn",
    "outputId": "7a1c201a-96a8-4d34-c963-fbff4e674e7a"
   },
   "outputs": [
    {
     "data": {
      "text/plain": [
       "10000"
      ]
     },
     "execution_count": 9,
     "metadata": {},
     "output_type": "execute_result"
    }
   ],
   "source": [
    "len(test_labels)"
   ]
  },
  {
   "cell_type": "markdown",
   "metadata": {
    "id": "ES6uQoLKCaWr"
   },
   "source": [
    "## Przygotowanie danych:"
   ]
  },
  {
   "cell_type": "code",
   "execution_count": 10,
   "metadata": {
    "colab": {
     "base_uri": "https://localhost:8080/",
     "height": 265
    },
    "executionInfo": {
     "elapsed": 642,
     "status": "ok",
     "timestamp": 1668587705364,
     "user": {
      "displayName": "Kamil Pabijan",
      "userId": "18001500138958413010"
     },
     "user_tz": -60
    },
    "id": "m4VEw8Ud9Quh",
    "outputId": "3e0b56a8-a824-44ce-8cf5-ca4a44559aa8"
   },
   "outputs": [
    {
     "data": {
      "image/png": "[encoded data removed]",
      "text/plain": [
       "<Figure size 432x288 with 2 Axes>"
      ]
     },
     "metadata": {
      "needs_background": "light"
     },
     "output_type": "display_data"
    }
   ],
   "source": [
    "plt.figure()\n",
    "plt.imshow(train_images[0])\n",
    "plt.colorbar()\n",
    "plt.grid(False)\n",
    "plt.show()"
   ]
  },
  {
   "cell_type": "markdown",
   "metadata": {
    "id": "Wz7l27Lz9S1P"
   },
   "source": [
    "Wartości pikseli są pomiędzy 0 a 255. Dla lepszego efektu uczenia zminiejszmy zakres danych od przedziąłu [0, 1].\n",
    "\n",
    "W tym przypadku podzielmy wartości przez `255`."
   ]
  },
  {
   "cell_type": "code",
   "execution_count": 11,
   "metadata": {
    "executionInfo": {
     "elapsed": 649,
     "status": "ok",
     "timestamp": 1668587708737,
     "user": {
      "displayName": "Kamil Pabijan",
      "userId": "18001500138958413010"
     },
     "user_tz": -60
    },
    "id": "bW5WzIPlCaWv"
   },
   "outputs": [],
   "source": [
    "train_images = train_images / 255.0\n",
    "\n",
    "test_images = test_images / 255.0"
   ]
  },
  {
   "cell_type": "markdown",
   "metadata": {
    "id": "Ee638AlnCaWz"
   },
   "source": [
    "Wyświetlmy kilka pierwszysch wartości wraz z odpowiadojącymi wartościami:"
   ]
  },
  {
   "cell_type": "code",
   "execution_count": 12,
   "metadata": {
    "colab": {
     "base_uri": "https://localhost:8080/",
     "height": 589
    },
    "executionInfo": {
     "elapsed": 1316,
     "status": "ok",
     "timestamp": 1668587728697,
     "user": {
      "displayName": "Kamil Pabijan",
      "userId": "18001500138958413010"
     },
     "user_tz": -60
    },
    "id": "oZTImqg_CaW1",
    "outputId": "41252537-bd7f-4610-c191-79d681e591ae"
   },
   "outputs": [
    {
     "data": {
      "image/png": "[encoded data removed]",
      "text/plain": [
       "<Figure size 720x720 with 25 Axes>"
      ]
     },
     "metadata": {},
     "output_type": "display_data"
    }
   ],
   "source": [
    "plt.figure(figsize=(10,10))\n",
    "nrows = 5\n",
    "ncols = 5\n",
    "for i in range(nrows * ncols):\n",
    "    plt.subplot(nrows, ncols, i+1)\n",
    "    plt.xticks([])\n",
    "    plt.yticks([])\n",
    "    plt.grid(False)\n",
    "    plt.imshow(train_images[i], cmap=plt.cm.binary)\n",
    "    plt.xlabel(class_names[train_labels[i]])\n",
    "plt.show()"
   ]
  },
  {
   "cell_type": "markdown",
   "metadata": {
    "id": "59veuiEZCaW4"
   },
   "source": [
    "## Budowanie modelu\n",
    "\n",
    "Budowanie sieci neuronowej wymaga konfiguracji architektury sieci a następnie kompilacji."
   ]
  },
  {
   "cell_type": "markdown",
   "metadata": {
    "id": "Gxg1XGm0eOBy",
    "tags": []
   },
   "source": [
    "### Set up the layers\n",
    "\n",
    "[*layer*](https://www.tensorflow.org/api_docs/python/tf/keras/layers) - dokumentcja\n",
    "\n",
    "Będziemy korzystać z warstwy `Dense` - czyli *każdy z każdym* - **fully connected layer**\n",
    "\n",
    "```Python\n",
    "tf.keras.layers.Dense(\n",
    "    units,\n",
    "    activation=None,\n",
    "    use_bias=True,\n",
    "    kernel_initializer='glorot_uniform',\n",
    "    bias_initializer='zeros',\n",
    "    kernel_regularizer=None,\n",
    "    bias_regularizer=None,\n",
    "    activity_regularizer=None,\n",
    "    kernel_constraint=None,\n",
    "    bias_constraint=None,\n",
    "    **kwargs\n",
    ")\n",
    "```"
   ]
  },
  {
   "cell_type": "code",
   "execution_count": 13,
   "metadata": {
    "executionInfo": {
     "elapsed": 1,
     "status": "ok",
     "timestamp": 1668589369690,
     "user": {
      "displayName": "Kamil Pabijan",
      "userId": "18001500138958413010"
     },
     "user_tz": -60
    },
    "id": "9ODch-OFCaW4"
   },
   "outputs": [],
   "source": [
    "model = tf.keras.Sequential([\n",
    "    tf.keras.layers.Flatten(input_shape=(28, 28)),\n",
    "    tf.keras.layers.Dense(128, activation='relu'),\n",
    "    tf.keras.layers.Dense(10, activation='softmax')\n",
    "])"
   ]
  },
  {
   "cell_type": "markdown",
   "metadata": {},
   "source": [
    "Pierwsza warstwa to `tf.keras.layers.Flatten` - jest to warstwa, który *wypłaszcza* nam nasze dane, tzn. z macierzy 2D 28 na 28 robie wektor 1D o długości 784 (28 * 28), podobnie jak funkcja `np.ndarray.flatten` z biblioteki NumPy zastosowana dl każdego obrazka. Warstwa `Flatten` nie jest warstwą, która się uczy, jej zadaniem jest tylko i wyłacznie przprocesowanie danch!"
   ]
  },
  {
   "cell_type": "code",
   "execution_count": 14,
   "metadata": {},
   "outputs": [
    {
     "data": {
      "image/png": "[encoded data removed]",
      "text/plain": [
       "<IPython.core.display.Image object>"
      ]
     },
     "execution_count": 14,
     "metadata": {},
     "output_type": "execute_result"
    }
   ],
   "source": [
    "tf.keras.utils.plot_model(model, show_shapes=True, show_layer_activations=True)"
   ]
  },
  {
   "cell_type": "markdown",
   "metadata": {
    "id": "gut8A_7rCaW6"
   },
   "source": [
    "### Compile the model\n",
    "\n",
    "Teraz musimy [*zcompilować*](https://www.tensorflow.org/api_docs/python/tf/keras/Model#compile) model:\n",
    "\n",
    "* [*Loss function*](https://www.tensorflow.org/api_docs/python/tf/keras/losses) \n",
    "* [*Optimizer*](https://www.tensorflow.org/api_docs/python/tf/keras/optimizers) \n",
    "* [*Metrics*](https://www.tensorflow.org/api_docs/python/tf/keras/metrics)"
   ]
  },
  {
   "cell_type": "code",
   "execution_count": 15,
   "metadata": {
    "executionInfo": {
     "elapsed": 310,
     "status": "ok",
     "timestamp": 1668589391568,
     "user": {
      "displayName": "Kamil Pabijan",
      "userId": "18001500138958413010"
     },
     "user_tz": -60
    },
    "id": "Lhan11blCaW7"
   },
   "outputs": [],
   "source": [
    "model.compile(optimizer='adam',\n",
    "              loss='sparse_categorical_crossentropy',\n",
    "              metrics=['accuracy'])"
   ]
  },
  {
   "cell_type": "markdown",
   "metadata": {
    "id": "qKF6uW-BCaW-"
   },
   "source": [
    "## Train the model\n",
    "\n",
    "Training the neural network model requires the following steps:\n",
    "\n",
    "1. Feed the training data to the model. In this example, the training data is in the `train_images` and `train_labels` arrays.\n",
    "2. The model learns to associate images and labels.\n",
    "3. You ask the model to make predictions about a test set—in this example, the `test_images` array.\n",
    "4. Verify that the predictions match the labels from the `test_labels` array.\n"
   ]
  },
  {
   "cell_type": "markdown",
   "metadata": {
    "id": "Z4P4zIV7E28Z"
   },
   "source": [
    "### Feed the model (Forward propagation)\n",
    "\n",
    "[model.fit](https://www.tensorflow.org/api_docs/python/tf/keras/Model#fit)"
   ]
  },
  {
   "cell_type": "code",
   "execution_count": 16,
   "metadata": {
    "colab": {
     "base_uri": "https://localhost:8080/"
    },
    "executionInfo": {
     "elapsed": 30417,
     "status": "ok",
     "timestamp": 1668589438899,
     "user": {
      "displayName": "Kamil Pabijan",
      "userId": "18001500138958413010"
     },
     "user_tz": -60
    },
    "id": "xvwvpA64CaW_",
    "outputId": "33623512-168e-4c08-9595-c844c154f945"
   },
   "outputs": [
    {
     "name": "stdout",
     "output_type": "stream",
     "text": [
      "Epoch 1/10\n",
      "  1/480 [..............................] - ETA: 1:07 - loss: 2.5455 - accuracy: 0.0900"
     ]
    },
    {
     "name": "stderr",
     "output_type": "stream",
     "text": [
      "2022-11-17 19:06:26.988308: W tensorflow/core/platform/profile_utils/cpu_utils.cc:128] Failed to get CPU frequency: 0 Hz\n"
     ]
    },
    {
     "name": "stdout",
     "output_type": "stream",
     "text": [
      "480/480 [==============================] - 1s 1ms/step - loss: 0.5617 - accuracy: 0.8062 - val_loss: 0.4322 - val_accuracy: 0.8516\n",
      "Epoch 2/10\n",
      "480/480 [==============================] - 0s 894us/step - loss: 0.4097 - accuracy: 0.8544 - val_loss: 0.4065 - val_accuracy: 0.8562\n",
      "Epoch 3/10\n",
      "480/480 [==============================] - 0s 928us/step - loss: 0.3701 - accuracy: 0.8683 - val_loss: 0.3682 - val_accuracy: 0.8653\n",
      "Epoch 4/10\n",
      "480/480 [==============================] - 0s 913us/step - loss: 0.3406 - accuracy: 0.8776 - val_loss: 0.3602 - val_accuracy: 0.8716\n",
      "Epoch 5/10\n",
      "480/480 [==============================] - 0s 980us/step - loss: 0.3196 - accuracy: 0.8835 - val_loss: 0.3507 - val_accuracy: 0.8747\n",
      "Epoch 6/10\n",
      "480/480 [==============================] - 0s 900us/step - loss: 0.3031 - accuracy: 0.8903 - val_loss: 0.3396 - val_accuracy: 0.8808\n",
      "Epoch 7/10\n",
      "480/480 [==============================] - 0s 918us/step - loss: 0.2949 - accuracy: 0.8934 - val_loss: 0.3299 - val_accuracy: 0.8806\n",
      "Epoch 8/10\n",
      "480/480 [==============================] - 0s 888us/step - loss: 0.2828 - accuracy: 0.8972 - val_loss: 0.3235 - val_accuracy: 0.8825\n",
      "Epoch 9/10\n",
      "480/480 [==============================] - 0s 891us/step - loss: 0.2686 - accuracy: 0.9013 - val_loss: 0.3403 - val_accuracy: 0.8799\n",
      "Epoch 10/10\n",
      "480/480 [==============================] - 0s 903us/step - loss: 0.2591 - accuracy: 0.9058 - val_loss: 0.3298 - val_accuracy: 0.8817\n",
      "CPU times: user 8.64 s, sys: 2.26 s, total: 10.9 s\n",
      "Wall time: 4.68 s\n"
     ]
    },
    {
     "data": {
      "text/plain": [
       "<keras.callbacks.History at 0x2946c29e0>"
      ]
     },
     "execution_count": 16,
     "metadata": {},
     "output_type": "execute_result"
    }
   ],
   "source": [
    "%%time\n",
    "model.fit(train_images, train_labels, epochs=10, batch_size=100, validation_split=0.2)"
   ]
  },
  {
   "cell_type": "markdown",
   "metadata": {
    "id": "wCpr6DGyE28h"
   },
   "source": [
    "### Evaluation"
   ]
  },
  {
   "cell_type": "code",
   "execution_count": 17,
   "metadata": {
    "colab": {
     "base_uri": "https://localhost:8080/"
    },
    "executionInfo": {
     "elapsed": 416,
     "status": "ok",
     "timestamp": 1668589462536,
     "user": {
      "displayName": "Kamil Pabijan",
      "userId": "18001500138958413010"
     },
     "user_tz": -60
    },
    "id": "VflXLEeECaXC",
    "outputId": "b5b03c44-1d6d-4f73-ef8f-2c9392e25e5a"
   },
   "outputs": [
    {
     "name": "stdout",
     "output_type": "stream",
     "text": [
      "600/600 - 0s - loss: 0.2680 - accuracy: 0.9018 - 260ms/epoch - 434us/step\n",
      "100/100 - 0s - loss: 0.3586 - accuracy: 0.8687 - 48ms/epoch - 481us/step\n",
      "\n",
      "Train accuracy: 0.2680128514766693\n",
      "\n",
      "Test accuracy: 0.8687000274658203\n"
     ]
    }
   ],
   "source": [
    "train_loss, train_acc = model.evaluate(train_images,  train_labels, verbose=2, batch_size=100)\n",
    "test_loss, test_acc = model.evaluate(test_images,  test_labels, verbose=2, batch_size=100)\n",
    "\n",
    "print('\\nTrain accuracy:', train_loss)\n",
    "print('\\nTest accuracy:', test_acc)"
   ]
  },
  {
   "cell_type": "markdown",
   "metadata": {
    "id": "yWfgsmVXCaXG"
   },
   "source": [
    "Róznica pomiędzy dokładnoćią dla zbioru testowego i treningowego jiest *miarą* przetrenowania (overfitting).\n",
    "\n",
    "*   [Demonstrate overfitting](https://www.tensorflow.org/tutorials/keras/overfit_and_underfit#demonstrate_overfitting)\n",
    "*   [Strategies to prevent overfitting](https://www.tensorflow.org/tutorials/keras/overfit_and_underfit#strategies_to_prevent_overfitting)"
   ]
  },
  {
   "cell_type": "markdown",
   "metadata": {
    "id": "v-PyD1SYE28q",
    "tags": []
   },
   "source": [
    "### Predykcje"
   ]
  },
  {
   "cell_type": "code",
   "execution_count": 18,
   "metadata": {
    "colab": {
     "base_uri": "https://localhost:8080/"
    },
    "executionInfo": {
     "elapsed": 1495,
     "status": "ok",
     "timestamp": 1668589475535,
     "user": {
      "displayName": "Kamil Pabijan",
      "userId": "18001500138958413010"
     },
     "user_tz": -60
    },
    "id": "Gl91RPhdCaXI",
    "outputId": "70ba65b9-63c7-4793-97d8-1dff8d3af457"
   },
   "outputs": [
    {
     "name": "stdout",
     "output_type": "stream",
     "text": [
      "313/313 [==============================] - 0s 332us/step\n"
     ]
    }
   ],
   "source": [
    "predictions = model.predict(test_images)"
   ]
  },
  {
   "cell_type": "markdown",
   "metadata": {
    "id": "x9Kk1voUCaXJ"
   },
   "source": [
    "Model zwrócił predykcję dla każdego z przykładu."
   ]
  },
  {
   "cell_type": "code",
   "execution_count": 19,
   "metadata": {
    "colab": {
     "base_uri": "https://localhost:8080/"
    },
    "executionInfo": {
     "elapsed": 313,
     "status": "ok",
     "timestamp": 1668589485882,
     "user": {
      "displayName": "Kamil Pabijan",
      "userId": "18001500138958413010"
     },
     "user_tz": -60
    },
    "id": "3DmJEUinCaXK",
    "outputId": "b6e5547a-c43a-4360-c772-cd4b5dc0652c"
   },
   "outputs": [
    {
     "data": {
      "text/plain": [
       "array([4.7027717e-07, 1.6996808e-07, 3.7871191e-06, 5.8634930e-07,\n",
       "       1.4040333e-05, 5.5505815e-03, 1.6085289e-05, 4.6889164e-02,\n",
       "       3.6130310e-05, 9.4748896e-01], dtype=float32)"
      ]
     },
     "execution_count": 19,
     "metadata": {},
     "output_type": "execute_result"
    }
   ],
   "source": [
    "predictions[0]"
   ]
  },
  {
   "cell_type": "markdown",
   "metadata": {},
   "source": [
    "Wyjściem z sieci neuronowej jest warstwa z funkcją aktywacji `softmax`, która zwraca nam prawdopodobieństwo przynależności do każdej z klasy, stąd dla jednego przykłądu mamy aż 10 pozycji."
   ]
  },
  {
   "cell_type": "code",
   "execution_count": 20,
   "metadata": {
    "colab": {
     "base_uri": "https://localhost:8080/"
    },
    "executionInfo": {
     "elapsed": 358,
     "status": "ok",
     "timestamp": 1668589488543,
     "user": {
      "displayName": "Kamil Pabijan",
      "userId": "18001500138958413010"
     },
     "user_tz": -60
    },
    "id": "qsqenuPnCaXO",
    "outputId": "399161fb-e159-4588-d9f1-d8c0ed813d59"
   },
   "outputs": [
    {
     "data": {
      "text/plain": [
       "9"
      ]
     },
     "execution_count": 20,
     "metadata": {},
     "output_type": "execute_result"
    }
   ],
   "source": [
    "np.argmax(predictions[0])"
   ]
  },
  {
   "cell_type": "code",
   "execution_count": 21,
   "metadata": {
    "colab": {
     "base_uri": "https://localhost:8080/"
    },
    "executionInfo": {
     "elapsed": 237,
     "status": "ok",
     "timestamp": 1668589489973,
     "user": {
      "displayName": "Kamil Pabijan",
      "userId": "18001500138958413010"
     },
     "user_tz": -60
    },
    "id": "Sd7Pgsu6CaXP",
    "outputId": "2eae07f4-d513-437d-b84c-fca0001e1add"
   },
   "outputs": [
    {
     "data": {
      "text/plain": [
       "9"
      ]
     },
     "execution_count": 21,
     "metadata": {},
     "output_type": "execute_result"
    }
   ],
   "source": [
    "test_labels[0]"
   ]
  },
  {
   "cell_type": "code",
   "execution_count": 22,
   "metadata": {
    "executionInfo": {
     "elapsed": 306,
     "status": "ok",
     "timestamp": 1668589492123,
     "user": {
      "displayName": "Kamil Pabijan",
      "userId": "18001500138958413010"
     },
     "user_tz": -60
    },
    "id": "DvYmmrpIy6Y1"
   },
   "outputs": [],
   "source": [
    "def plot_image(i, predictions_array, true_label, img):\n",
    "    true_label, img = true_label[i], img[i]\n",
    "    plt.grid(False)\n",
    "    plt.xticks([])\n",
    "    plt.yticks([])\n",
    "\n",
    "    plt.imshow(img, cmap=plt.cm.binary)\n",
    "\n",
    "    predicted_label = np.argmax(predictions_array)\n",
    "    if predicted_label == true_label:\n",
    "        color = 'blue'\n",
    "    else:\n",
    "        color = 'red'\n",
    "\n",
    "    plt.xlabel(f\"{class_names[predicted_label]} {100*np.max(predictions_array):.2f}% ({class_names[true_label]})\", color=color)\n",
    "\n",
    "def plot_value_array(i, predictions_array, true_label):\n",
    "    true_label = true_label[i]\n",
    "    plt.grid(False)\n",
    "    plt.xticks(range(10))\n",
    "    plt.yticks([])\n",
    "    thisplot = plt.bar(range(10), predictions_array, color=\"#777777\")\n",
    "    plt.ylim([0, 1])\n",
    "    predicted_label = np.argmax(predictions_array)\n",
    "\n",
    "    thisplot[predicted_label].set_color('red')\n",
    "    thisplot[true_label].set_color('blue')"
   ]
  },
  {
   "cell_type": "markdown",
   "metadata": {
    "id": "Zh9yABaME29S",
    "tags": []
   },
   "source": [
    "### Wizualizacja predykcji"
   ]
  },
  {
   "cell_type": "code",
   "execution_count": 25,
   "metadata": {
    "colab": {
     "base_uri": "https://localhost:8080/",
     "height": 211
    },
    "executionInfo": {
     "elapsed": 316,
     "status": "ok",
     "timestamp": 1668589494794,
     "user": {
      "displayName": "Kamil Pabijan",
      "userId": "18001500138958413010"
     },
     "user_tz": -60
    },
    "id": "HV5jw-5HwSmO",
    "outputId": "127f28a6-e88e-411d-eb88-006e59d9c1bb"
   },
   "outputs": [
    {
     "data": {
      "image/png": "[encoded data removed]",
      "text/plain": [
       "<Figure size 432x216 with 2 Axes>"
      ]
     },
     "metadata": {
      "needs_background": "light"
     },
     "output_type": "display_data"
    }
   ],
   "source": [
    "i = 0\n",
    "plt.figure(figsize=(6, 3))\n",
    "plt.subplot(1, 2, 1)\n",
    "plot_image(i, predictions[i], test_labels, test_images)\n",
    "plt.subplot(1, 2, 2)\n",
    "plot_value_array(i, predictions[i],  test_labels)\n",
    "plt.show()"
   ]
  },
  {
   "cell_type": "code",
   "execution_count": 26,
   "metadata": {
    "colab": {
     "base_uri": "https://localhost:8080/",
     "height": 211
    },
    "executionInfo": {
     "elapsed": 523,
     "status": "ok",
     "timestamp": 1668589498080,
     "user": {
      "displayName": "Kamil Pabijan",
      "userId": "18001500138958413010"
     },
     "user_tz": -60
    },
    "id": "Ko-uzOufSCSe",
    "outputId": "bd29b6f0-05c3-433f-d023-d3a54e4382a5"
   },
   "outputs": [
    {
     "data": {
      "image/png": "[encoded data removed]",
      "text/plain": [
       "<Figure size 432x216 with 2 Axes>"
      ]
     },
     "metadata": {
      "needs_background": "light"
     },
     "output_type": "display_data"
    }
   ],
   "source": [
    "i = 12\n",
    "plt.figure(figsize=(6,3))\n",
    "plt.subplot(1, 2, 1)\n",
    "plot_image(i, predictions[i], test_labels, test_images)\n",
    "plt.subplot(1, 2, 2)\n",
    "plot_value_array(i, predictions[i],  test_labels)\n",
    "plt.show()"
   ]
  },
  {
   "cell_type": "code",
   "execution_count": 28,
   "metadata": {
    "colab": {
     "base_uri": "https://localhost:8080/",
     "height": 729
    },
    "executionInfo": {
     "elapsed": 3057,
     "status": "ok",
     "timestamp": 1668589506654,
     "user": {
      "displayName": "Kamil Pabijan",
      "userId": "18001500138958413010"
     },
     "user_tz": -60
    },
    "id": "hQlnbqaw2Qu_",
    "outputId": "0306473b-f2ab-4b89-fdd0-ed5bd23afd23"
   },
   "outputs": [
    {
     "data": {
      "image/png": "[encoded data removed]",
      "text/plain": [
       "<Figure size 864x720 with 30 Axes>"
      ]
     },
     "metadata": {
      "needs_background": "light"
     },
     "output_type": "display_data"
    }
   ],
   "source": [
    "# Plot the first X test images, their predicted labels, and the true labels.\n",
    "# Color correct predictions in blue and incorrect predictions in red.\n",
    "num_rows = 5\n",
    "num_cols = 3\n",
    "num_images = num_rows * num_cols\n",
    "plt.figure(figsize=(2 * 2 * num_cols, 2 * num_rows))\n",
    "for i in range(num_images):\n",
    "  plt.subplot(num_rows, 2 * num_cols, 2 * i + 1)\n",
    "  plot_image(i, predictions[i], test_labels, test_images)\n",
    "  plt.subplot(num_rows, 2 * num_cols, 2 * i + 2)\n",
    "  plot_value_array(i, predictions[i], test_labels)\n",
    "plt.tight_layout()\n",
    "plt.show()"
   ]
  },
  {
   "cell_type": "markdown",
   "metadata": {
    "id": "R32zteKHCaXT"
   },
   "source": [
    "## Użycie modelu"
   ]
  },
  {
   "cell_type": "code",
   "execution_count": 29,
   "metadata": {
    "colab": {
     "base_uri": "https://localhost:8080/"
    },
    "executionInfo": {
     "elapsed": 315,
     "status": "ok",
     "timestamp": 1668589513018,
     "user": {
      "displayName": "Kamil Pabijan",
      "userId": "18001500138958413010"
     },
     "user_tz": -60
    },
    "id": "yRJ7JU7JCaXT",
    "outputId": "3f53a9d3-45fe-4be9-ecb8-c330cb543e47"
   },
   "outputs": [
    {
     "name": "stdout",
     "output_type": "stream",
     "text": [
      "(28, 28)\n"
     ]
    }
   ],
   "source": [
    "# Grab an image from the test dataset.\n",
    "img = test_images[1]\n",
    "\n",
    "print(img.shape)"
   ]
  },
  {
   "cell_type": "markdown",
   "metadata": {
    "id": "vz3bVp21CaXV"
   },
   "source": [
    "Pojedyńczy obrazek ma wielkość (28, 28). Pamiętamy, że do naszego modelu przekazywaliśmy batch, skłądający się ze 100 obraków, które były zebrane w jeden zbiór, trójwymiarową tablicę NumPy, czyli tensor, o wymiarzy (100, 28, 28). Stąd robiąć predykcję dla jednego obrazka chcemy zachować ten sam wymiar (shape). W związku z tym musimy dodać dodatkowy wymiar. "
   ]
  },
  {
   "cell_type": "code",
   "execution_count": 30,
   "metadata": {
    "colab": {
     "base_uri": "https://localhost:8080/"
    },
    "executionInfo": {
     "elapsed": 372,
     "status": "ok",
     "timestamp": 1668589514953,
     "user": {
      "displayName": "Kamil Pabijan",
      "userId": "18001500138958413010"
     },
     "user_tz": -60
    },
    "id": "lDFh5yF_CaXW",
    "outputId": "3ab2897a-e60e-478c-ee31-bc3c62a9a21f"
   },
   "outputs": [
    {
     "name": "stdout",
     "output_type": "stream",
     "text": [
      "(1, 28, 28)\n"
     ]
    }
   ],
   "source": [
    "# Add the image to a batch where it's the only member.\n",
    "img = (np.expand_dims(img, 0))\n",
    "\n",
    "print(img.shape)"
   ]
  },
  {
   "cell_type": "markdown",
   "metadata": {
    "id": "EQ5wLTkcCaXY"
   },
   "source": [
    "Teraz możemy wykonać predykcję:"
   ]
  },
  {
   "cell_type": "code",
   "execution_count": 31,
   "metadata": {
    "colab": {
     "base_uri": "https://localhost:8080/"
    },
    "executionInfo": {
     "elapsed": 310,
     "status": "ok",
     "timestamp": 1668589516496,
     "user": {
      "displayName": "Kamil Pabijan",
      "userId": "18001500138958413010"
     },
     "user_tz": -60
    },
    "id": "o_rzNSdrCaXY",
    "outputId": "79176e44-b0ec-4927-ef77-0700f145b6e9"
   },
   "outputs": [
    {
     "name": "stdout",
     "output_type": "stream",
     "text": [
      "1/1 [==============================] - 0s 10ms/step\n",
      "[[1.9215753e-05 2.0502717e-09 9.7975266e-01 8.2563094e-09 1.3731107e-02\n",
      "  1.2053560e-14 6.4970241e-03 2.0584900e-15 1.2006284e-08 4.8750018e-16]]\n"
     ]
    }
   ],
   "source": [
    "predictions_single = model.predict(img)\n",
    "\n",
    "print(predictions_single)"
   ]
  },
  {
   "cell_type": "code",
   "execution_count": 32,
   "metadata": {
    "colab": {
     "base_uri": "https://localhost:8080/",
     "height": 300
    },
    "executionInfo": {
     "elapsed": 490,
     "status": "ok",
     "timestamp": 1668589517914,
     "user": {
      "displayName": "Kamil Pabijan",
      "userId": "18001500138958413010"
     },
     "user_tz": -60
    },
    "id": "6Ai-cpLjO-3A",
    "outputId": "80bfa5fd-d5be-4e12-95d6-b4c5e6949e74"
   },
   "outputs": [
    {
     "data": {
      "image/png": "[encoded data removed]",
      "text/plain": [
       "<Figure size 432x288 with 1 Axes>"
      ]
     },
     "metadata": {
      "needs_background": "light"
     },
     "output_type": "display_data"
    }
   ],
   "source": [
    "plot_value_array(1, predictions_single[0], test_labels)\n",
    "_ = plt.xticks(range(10), class_names, rotation=45)\n",
    "plt.show()"
   ]
  },
  {
   "cell_type": "code",
   "execution_count": 33,
   "metadata": {
    "colab": {
     "base_uri": "https://localhost:8080/"
    },
    "executionInfo": {
     "elapsed": 233,
     "status": "ok",
     "timestamp": 1668589519696,
     "user": {
      "displayName": "Kamil Pabijan",
      "userId": "18001500138958413010"
     },
     "user_tz": -60
    },
    "id": "2tRmdq_8CaXb",
    "outputId": "2c7fb60f-79c1-459b-8e07-df76c9257ce9"
   },
   "outputs": [
    {
     "data": {
      "text/plain": [
       "2"
      ]
     },
     "execution_count": 33,
     "metadata": {},
     "output_type": "execute_result"
    }
   ],
   "source": [
    "np.argmax(predictions_single[0])"
   ]
  },
  {
   "cell_type": "markdown",
   "metadata": {
    "id": "YFc2HbEVCaXd"
   },
   "source": [
    "Model przewidział produkt poprawnie."
   ]
  }
 ],
 "metadata": {
  "colab": {
   "provenance": [
    {
     "file_id": "https://github.com/tensorflow/docs/blob/master/site/en/tutorials/keras/classification.ipynb",
     "timestamp": 1668587613661
    }
   ],
   "toc_visible": true
  },
  "kernelspec": {
   "display_name": "Python 3 (ipykernel)",
   "language": "python",
   "name": "python3"
  },
  "language_info": {
   "codemirror_mode": {
    "name": "ipython",
    "version": 3
   },
   "file_extension": ".py",
   "mimetype": "text/x-python",
   "name": "python",
   "nbconvert_exporter": "python",
   "pygments_lexer": "ipython3",
   "version": "3.10.6"
  }
 },
 "nbformat": 4,
 "nbformat_minor": 4
}
