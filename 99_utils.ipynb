{
 "cells": [
  {
   "cell_type": "markdown",
   "id": "d5645997-e156-48c4-9330-e2963d403d28",
   "metadata": {
    "jupyter": {
     "outputs_hidden": true
    },
    "tags": []
   },
   "source": [
    "[optimizers](https://www.tensorflow.org/api_docs/python/tf/keras/optimizers)\n",
    "\n",
    "```Python\n",
    "optimizer = tf.keras.optimizers.SGD(learning_rate=0.001)\n",
    "optimizer = tf.keras.optimizers.SGD(learning_rate=0.001, momentum=0.9)\n",
    "optimizer = tf.keras.optimizers.SGD(learning_rate=0.001, momentum=0.9, nesterov=True)\n",
    "\n",
    "model.compile(optimizer='SGD', loss=loss)\n",
    "\n",
    "optimizer = tf.keras.optimizers.RMSprop(learning_rate=0.001, rho=0.9)\n",
    "\n",
    "model.compile(optimizer='RMSprop', loss=loss)\n",
    "\n",
    "optimizer = tf.keras.optimizers.Adam(learning_rate=0.001, beta_1=0.9, beta_2=0.999)\n",
    "\n",
    "model.compile(optimizer='Adam', loss=loss)\n",
    "```"
   ]
  },
  {
   "cell_type": "markdown",
   "id": "589c511a-450a-4d59-a8a3-853a52f72f43",
   "metadata": {},
   "source": [
    "[losses](https://www.tensorflow.org/api_docs/python/tf/keras/losses)\n",
    "\n",
    "```Python\n",
    "loss = tf.keras.losses.MeanSquaredError()\n",
    "\n",
    "model.compile(optimizer=optimizer, loss=loss)\n",
    "model.compile(optimizer=optimizer, loss='mean_squared_error')\n",
    "\n",
    "loss = tf.keras.losses.MeanAbsoluteError()\n",
    "\n",
    "model.compile(optimizer=optimizer, loss=loss)\n",
    "model.compile(optimizer=optimizer, loss='mean_absolute_error')\n",
    "\n",
    "loss = tf.keras.losses.SparseCategoricalCrossentropy()\n",
    "\n",
    "model.compile(optimizer=optimizer, loss=loss)\n",
    "model.compile(optimizer=optimizer, loss='sparse_categorical_crossentropy')\n",
    "\n",
    "loss = tf.keras.losses.BinaryCrossentropy()\n",
    "\n",
    "model.compile(optimizer=optimizer, loss=loss)\n",
    "model.compile(optimizer=optimizer, loss='binary_crossentropy')\n",
    "```"
   ]
  },
  {
   "cell_type": "markdown",
   "id": "5d9d7aaf-69ab-408c-8ff8-14373b6d8b1d",
   "metadata": {},
   "source": [
    "[activations](https://www.tensorflow.org/api_docs/python/tf/keras/activations)\n",
    "\n",
    "```Python\n",
    "tf.keras.activations.relu\n",
    "model = tf.keras.Sequential([tf.keras.layers.Dense(..., activation=tf.keras.activations.relu)])\n",
    "\n",
    "tf.keras.activations.linear\n",
    "model = tf.keras.Sequential([tf.keras.layers.Dense(..., activation=tf.keras.activations.linear)])\n",
    "\n",
    "\n",
    "tf.keras.activations.sigmoid\n",
    "model = tf.keras.Sequential([tf.keras.layers.Dense(..., activation=tf.keras.activations.sigmoid)])\n",
    "\n",
    "tf.keras.activations.softmax\n",
    "model = tf.keras.Sequential([tf.keras.layers.Dense(..., activation=tf.keras.activations.softmax)])\n",
    "```\n"
   ]
  },
  {
   "cell_type": "code",
   "execution_count": 16,
   "id": "919cdbc0-93b2-420b-aa5d-08fd394fcec7",
   "metadata": {},
   "outputs": [
    {
     "name": "stdout",
     "output_type": "stream",
     "text": [
      "WARNING:tensorflow:6 out of the last 6 calls to <function Model.make_train_function.<locals>.train_function at 0x2af510af0> triggered tf.function retracing. Tracing is expensive and the excessive number of tracings could be due to (1) creating @tf.function repeatedly in a loop, (2) passing tensors with different shapes, (3) passing Python objects instead of tensors. For (1), please define your @tf.function outside of the loop. For (2), @tf.function has reduce_retracing=True option that can avoid unnecessary retracing. For (3), please refer to https://www.tensorflow.org/guide/function#controlling_retracing and https://www.tensorflow.org/api_docs/python/tf/function for  more details.\n",
      "1/1 [==============================] - 0s 89ms/step - loss: 15.6534\n"
     ]
    },
    {
     "data": {
      "text/plain": [
       "<keras.callbacks.History at 0x2b0101930>"
      ]
     },
     "execution_count": 16,
     "metadata": {},
     "output_type": "execute_result"
    }
   ],
   "source": [
    "import numpy as np\n",
    "import matplotlib.pyplot as plt\n",
    "import tensorflow as tf\n",
    "tf.__version__\n",
    "\n",
    "np.random.seed(42)\n",
    "\n",
    "shape = (5, 1)\n",
    "noise = np.round(np.random.randn(*shape) / 10, 2)\n",
    "X = np.round(np.random.random(size=shape), 2)\n",
    "a, b = 2, 3\n",
    "y = a * X + b + noise\n",
    "\n",
    "\n",
    "activation = tf.keras.activations.relu\n",
    "\n",
    "model = tf.keras.Sequential(\n",
    "    [\n",
    "        tf.keras.layers.Dense(units=1, input_shape=(1,), activation=activation)\n",
    "    ]\n",
    ")\n",
    "\n",
    "optimizer = tf.keras.optimizers.SGD(learning_rate=0.001)\n",
    "loss = tf.keras.losses.MeanSquaredError()\n",
    "model.compile(optimizer=optimizer, loss=loss)\n",
    "\n",
    "model.fit(X, y)"
   ]
  },
  {
   "cell_type": "markdown",
   "id": "54f597f9-e258-41c3-bbfd-d404ae57c2ca",
   "metadata": {},
   "source": [
    "playground.tensorflow.org "
   ]
  },
  {
   "cell_type": "code",
   "execution_count": null,
   "id": "5b44d1e9-b4e6-435d-a98c-5d8227c0ae08",
   "metadata": {},
   "outputs": [],
   "source": []
  }
 ],
 "metadata": {
  "kernelspec": {
   "display_name": "Python 3 (ipykernel)",
   "language": "python",
   "name": "python3"
  },
  "language_info": {
   "codemirror_mode": {
    "name": "ipython",
    "version": 3
   },
   "file_extension": ".py",
   "mimetype": "text/x-python",
   "name": "python",
   "nbconvert_exporter": "python",
   "pygments_lexer": "ipython3",
   "version": "3.10.6"
  }
 },
 "nbformat": 4,
 "nbformat_minor": 5
}
