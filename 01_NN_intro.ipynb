{
 "cells": [
  {
   "cell_type": "code",
   "execution_count": 1,
   "metadata": {
    "colab": {
     "base_uri": "https://localhost:8080/",
     "height": 36
    },
    "executionInfo": {
     "elapsed": 3448,
     "status": "ok",
     "timestamp": 1668443454861,
     "user": {
      "displayName": "Kamil Pabijan",
      "userId": "18001500138958413010"
     },
     "user_tz": -60
    },
    "id": "4hbu3tWBnR4u",
    "outputId": "218da07c-f7c1-4cac-b3c7-ec10ce034ac0"
   },
   "outputs": [
    {
     "data": {
      "text/plain": [
       "'2.9.2'"
      ]
     },
     "execution_count": 1,
     "metadata": {},
     "output_type": "execute_result"
    }
   ],
   "source": [
    "import numpy as np\n",
    "import matplotlib.pyplot as plt\n",
    "import tensorflow as tf\n",
    "tf.__version__"
   ]
  },
  {
   "cell_type": "code",
   "execution_count": 2,
   "metadata": {
    "executionInfo": {
     "elapsed": 15,
     "status": "ok",
     "timestamp": 1668443454861,
     "user": {
      "displayName": "Kamil Pabijan",
      "userId": "18001500138958413010"
     },
     "user_tz": -60
    },
    "id": "kWeZYu5YnWt1"
   },
   "outputs": [],
   "source": [
    "# Generujemy dane do późniejszej analizy\n",
    "np.random.seed(42)\n",
    "\n",
    "shape = (5, 1)\n",
    "noise = np.round(np.random.randn(*shape) / 10, 2)\n",
    "X = np.round(np.random.random(size=shape), 2)\n",
    "a, b = 2, 3\n",
    "y = a * X + b + noise\n",
    "\n",
    "# Jeśli chcemy powtórzyć ćwiczenie dla jednego punktu\n",
    "# X = np.array([[0.5]])\n",
    "# y = np.array([[1]])\n",
    "\n",
    "# sposób bardziej macierzowy \n",
    "# i = np.ones(shape)\n",
    "# X = np.concatenate([X, i], axis=1)\n",
    "# coef = np.array([[2.], [3.]])\n",
    "\n",
    "# y = X.dot(coef) + noise"
   ]
  },
  {
   "cell_type": "code",
   "execution_count": 3,
   "metadata": {
    "colab": {
     "base_uri": "https://localhost:8080/"
    },
    "executionInfo": {
     "elapsed": 14,
     "status": "ok",
     "timestamp": 1668443454861,
     "user": {
      "displayName": "Kamil Pabijan",
      "userId": "18001500138958413010"
     },
     "user_tz": -60
    },
    "id": "51MQi5b-nTdw",
    "outputId": "ab9a8d3e-5188-4297-88b5-048de6ab6a67"
   },
   "outputs": [
    {
     "data": {
      "text/plain": [
       "array([[0.06],\n",
       "       [0.87],\n",
       "       [0.6 ],\n",
       "       [0.71],\n",
       "       [0.02]])"
      ]
     },
     "execution_count": 3,
     "metadata": {},
     "output_type": "execute_result"
    }
   ],
   "source": [
    "X"
   ]
  },
  {
   "cell_type": "code",
   "execution_count": 4,
   "metadata": {
    "colab": {
     "base_uri": "https://localhost:8080/"
    },
    "executionInfo": {
     "elapsed": 12,
     "status": "ok",
     "timestamp": 1668443454861,
     "user": {
      "displayName": "Kamil Pabijan",
      "userId": "18001500138958413010"
     },
     "user_tz": -60
    },
    "id": "TiRLAmGwol13",
    "outputId": "60d17890-3b67-4319-a212-7ef341666859"
   },
   "outputs": [
    {
     "data": {
      "text/plain": [
       "array([[3.17],\n",
       "       [4.73],\n",
       "       [4.26],\n",
       "       [4.57],\n",
       "       [3.02]])"
      ]
     },
     "execution_count": 4,
     "metadata": {},
     "output_type": "execute_result"
    }
   ],
   "source": [
    "y"
   ]
  },
  {
   "cell_type": "code",
   "execution_count": 5,
   "metadata": {
    "colab": {
     "base_uri": "https://localhost:8080/",
     "height": 265
    },
    "executionInfo": {
     "elapsed": 10,
     "status": "ok",
     "timestamp": 1668443454861,
     "user": {
      "displayName": "Kamil Pabijan",
      "userId": "18001500138958413010"
     },
     "user_tz": -60
    },
    "id": "Gs4Acd886XZP",
    "outputId": "c8eeffde-1e28-4bed-c9fc-e5046d437192"
   },
   "outputs": [
    {
     "data": {
      "image/png": "[encoded data removed]",
      "text/plain": [
       "<Figure size 432x288 with 1 Axes>"
      ]
     },
     "metadata": {
      "needs_background": "light"
     },
     "output_type": "display_data"
    }
   ],
   "source": [
    "plt.scatter(X, y)\n",
    "plt.show()"
   ]
  },
  {
   "cell_type": "code",
   "execution_count": 6,
   "metadata": {
    "executionInfo": {
     "elapsed": 9,
     "status": "ok",
     "timestamp": 1668443454861,
     "user": {
      "displayName": "Kamil Pabijan",
      "userId": "18001500138958413010"
     },
     "user_tz": -60
    },
    "id": "yWIILuehynvp"
   },
   "outputs": [],
   "source": [
    "# czyszczenie sesji i ustawienie random seed\n",
    "tf.keras.backend.clear_session()\n",
    "tf.random.set_seed(42)"
   ]
  },
  {
   "cell_type": "code",
   "execution_count": 7,
   "metadata": {
    "executionInfo": {
     "elapsed": 9,
     "status": "ok",
     "timestamp": 1668443454861,
     "user": {
      "displayName": "Kamil Pabijan",
      "userId": "18001500138958413010"
     },
     "user_tz": -60
    },
    "id": "zTG12Sq0oVLN"
   },
   "outputs": [],
   "source": [
    "# definicja modelu\n",
    "\n",
    "# Model składa się z jdengo nuronu i funckji aktywacji: identyczność (g(x)=x)\n",
    "model = tf.keras.Sequential(\n",
    "    [\n",
    "        tf.keras.layers.Dense(units=1, input_shape=(1,))\n",
    "    ]\n",
    ")"
   ]
  },
  {
   "cell_type": "code",
   "execution_count": 8,
   "metadata": {
    "colab": {
     "base_uri": "https://localhost:8080/"
    },
    "executionInfo": {
     "elapsed": 9,
     "status": "ok",
     "timestamp": 1668443454861,
     "user": {
      "displayName": "Kamil Pabijan",
      "userId": "18001500138958413010"
     },
     "user_tz": -60
    },
    "id": "ADq9G3fc9eZn",
    "outputId": "4745a555-ec2e-4eea-e317-a2fc96711603"
   },
   "outputs": [
    {
     "name": "stdout",
     "output_type": "stream",
     "text": [
      "Model: \"sequential\"\n",
      "_________________________________________________________________\n",
      " Layer (type)                Output Shape              Param #   \n",
      "=================================================================\n",
      " dense (Dense)               (None, 1)                 2         \n",
      "                                                                 \n",
      "=================================================================\n",
      "Total params: 2\n",
      "Trainable params: 2\n",
      "Non-trainable params: 0\n",
      "_________________________________________________________________\n"
     ]
    }
   ],
   "source": [
    "model.summary()"
   ]
  },
  {
   "cell_type": "code",
   "execution_count": 9,
   "metadata": {
    "executionInfo": {
     "elapsed": 8,
     "status": "ok",
     "timestamp": 1668443454862,
     "user": {
      "displayName": "Kamil Pabijan",
      "userId": "18001500138958413010"
     },
     "user_tz": -60
    },
    "id": "hbj0Z0YTMKKT"
   },
   "outputs": [],
   "source": [
    "# w momencie definicji modelu nastąpiła inicjalizacja wag, \n",
    "# dla ćwiczenia zmienimy wagi na ustalone przez nas\n",
    "\n",
    "model.layers[0].set_weights([np.array([[0.1]]), np.array([0.])])"
   ]
  },
  {
   "cell_type": "code",
   "execution_count": 10,
   "metadata": {
    "colab": {
     "base_uri": "https://localhost:8080/"
    },
    "executionInfo": {
     "elapsed": 8,
     "status": "ok",
     "timestamp": 1668443454862,
     "user": {
      "displayName": "Kamil Pabijan",
      "userId": "18001500138958413010"
     },
     "user_tz": -60
    },
    "id": "y50y5CH49gLh",
    "outputId": "ad10bb77-057f-4fce-c80f-3318055ed061"
   },
   "outputs": [
    {
     "name": "stdout",
     "output_type": "stream",
     "text": [
      "[array([[0.1]], dtype=float32), array([0.], dtype=float32)]\n",
      "w1: [0.1]\n",
      "w0: [0.]\n"
     ]
    }
   ],
   "source": [
    "weights = model.layers[0].get_weights()\n",
    "print(weights)\n",
    "w1, w0 = weights[0][0], weights[1]\n",
    "print(f\"w1: {w1}\\nw0: {w0}\")"
   ]
  },
  {
   "cell_type": "code",
   "execution_count": 11,
   "metadata": {
    "colab": {
     "base_uri": "https://localhost:8080/"
    },
    "executionInfo": {
     "elapsed": 644,
     "status": "ok",
     "timestamp": 1668443455500,
     "user": {
      "displayName": "Kamil Pabijan",
      "userId": "18001500138958413010"
     },
     "user_tz": -60
    },
    "id": "zmQs-8LB9lB6",
    "outputId": "b3c73142-a860-4e86-9d28-e04b497e4432"
   },
   "outputs": [
    {
     "name": "stdout",
     "output_type": "stream",
     "text": [
      "1/1 [==============================] - 0s 52ms/step\n"
     ]
    },
    {
     "name": "stderr",
     "output_type": "stream",
     "text": [
      "2022-11-17 19:00:33.401839: W tensorflow/core/platform/profile_utils/cpu_utils.cc:128] Failed to get CPU frequency: 0 Hz\n"
     ]
    }
   ],
   "source": [
    "# kiedny nasz sieć jest zdefiniowana a wagi ustalon możemy wykonać \n",
    "# wstępną predykcję na danych\n",
    "\n",
    "y_init = model.predict(X[:, 0])"
   ]
  },
  {
   "cell_type": "code",
   "execution_count": 12,
   "metadata": {
    "colab": {
     "base_uri": "https://localhost:8080/"
    },
    "executionInfo": {
     "elapsed": 14,
     "status": "ok",
     "timestamp": 1668443455501,
     "user": {
      "displayName": "Kamil Pabijan",
      "userId": "18001500138958413010"
     },
     "user_tz": -60
    },
    "id": "ZD9VWQwG-lwd",
    "outputId": "e4cb78b2-58f4-4161-c351-fe70450245f4"
   },
   "outputs": [
    {
     "name": "stdout",
     "output_type": "stream",
     "text": [
      "[3.17]\n",
      "[0.006]\n",
      "w1*x1 + w0: [0.006]\n"
     ]
    }
   ],
   "source": [
    "# dla przykadu pierwsza obserwacja jest liczona w ten sposób\n",
    "print(y[0])\n",
    "print(y_init[0])\n",
    "print(f\"w1*x1 + w0: {w1*X[0, 0] + w0}\")"
   ]
  },
  {
   "cell_type": "code",
   "execution_count": 13,
   "metadata": {
    "colab": {
     "base_uri": "https://localhost:8080/"
    },
    "executionInfo": {
     "elapsed": 12,
     "status": "ok",
     "timestamp": 1668443455502,
     "user": {
      "displayName": "Kamil Pabijan",
      "userId": "18001500138958413010"
     },
     "user_tz": -60
    },
    "id": "e9RqeEiCRm9o",
    "outputId": "d60b9668-299f-44a9-bace-f23628194e47"
   },
   "outputs": [
    {
     "data": {
      "text/plain": [
       "15.711533982442656"
      ]
     },
     "execution_count": 13,
     "metadata": {},
     "output_type": "execute_result"
    }
   ],
   "source": [
    "# ustalny learning rate \n",
    "learning_rate = 0.01 \n",
    "\n",
    "# policzmy błąd średniokwadratowy przy użyciu tf\n",
    "mse = tf.keras.losses.MeanSquaredError()\n",
    "mse(y_init, y).numpy()"
   ]
  },
  {
   "cell_type": "code",
   "execution_count": 14,
   "metadata": {
    "colab": {
     "base_uri": "https://localhost:8080/"
    },
    "executionInfo": {
     "elapsed": 12,
     "status": "ok",
     "timestamp": 1668443455503,
     "user": {
      "displayName": "Kamil Pabijan",
      "userId": "18001500138958413010"
     },
     "user_tz": -60
    },
    "id": "kvOMkKjp9szR",
    "outputId": "7878b46b-45f5-4162-c986-773c4c1dceef"
   },
   "outputs": [
    {
     "name": "stdout",
     "output_type": "stream",
     "text": [
      "15.711533982442656\n"
     ]
    }
   ],
   "source": [
    "# ten sam rezultat dostaniemy licząc \"ręcznie\"\n",
    "mse_ = np.mean((y_init - y) ** 2)\n",
    "print(mse_)"
   ]
  },
  {
   "cell_type": "markdown",
   "metadata": {
    "id": "I1oVGUZdB7Xr"
   },
   "source": [
    "$\\frac{\\partial E_{total}}{\\partial w1}=\\frac{\\partial E_{total}}{\\partial out_1}\\times\\frac{\\partial out_1}{\\partial net_1}\\times\\frac{\\partial net_1}{\\partial w_1}$\n",
    "\n",
    "$E_{total}=mse=\\left(target-out_1\\right)^2$\n",
    "\n",
    "$\\frac{\\partial E_{total}}{\\partial out_1}=2*\\left(target-out_1\\right)^2\\times(-1)$\n",
    "\n",
    "$out_1=g(net_1)=net_1$\n",
    "\n",
    "$\\frac{\\partial out_1}{\\partial net_1}=1$\n",
    "\n",
    "$net_1=w_1\\times x_1+w_0$\n",
    "\n",
    "$\\frac{\\partial net_1}{\\partial w_1}=x_1$\n",
    "\n",
    "\n",
    "\n"
   ]
  },
  {
   "cell_type": "markdown",
   "metadata": {
    "id": "yNG3IROBWj5o"
   },
   "source": [
    "<hr>"
   ]
  },
  {
   "cell_type": "code",
   "execution_count": 15,
   "metadata": {
    "colab": {
     "base_uri": "https://localhost:8080/"
    },
    "executionInfo": {
     "elapsed": 11,
     "status": "ok",
     "timestamp": 1668443455503,
     "user": {
      "displayName": "Kamil Pabijan",
      "userId": "18001500138958413010"
     },
     "user_tz": -60
    },
    "id": "pgeWHAdkB67q",
    "outputId": "037d727b-4b24-41c9-8dd9-e70e18ed8ca3"
   },
   "outputs": [
    {
     "name": "stdout",
     "output_type": "stream",
     "text": [
      "pochodna cząstkow błędu po wyjściu z neuronu\n",
      "[[-6.328     ]\n",
      " [-9.28599999]\n",
      " [-8.4       ]\n",
      " [-8.998     ]\n",
      " [-6.036     ]]\n",
      "\n",
      "błąd \"zależny\" od wagi\n",
      "-4.001559997043983\n"
     ]
    }
   ],
   "source": [
    "# pochodna cząstkow błędu po wyjściu z neuronu\n",
    "error = (y_init - y) * 2\n",
    "d_E_total = error\n",
    "print(\"pochodna cząstkow błędu po wyjściu z neuronu\")\n",
    "print(error)\n",
    "print()\n",
    "\n",
    "d_out_1 = 1\n",
    "\n",
    "d_net = X\n",
    "\n",
    "# błąd \"zależny\" od wagi\n",
    "d_E_total_w1 = np.mean(d_net * d_out_1 * d_E_total)\n",
    "print('błąd \"zależny\" od wagi')\n",
    "print(d_E_total_w1)"
   ]
  },
  {
   "cell_type": "code",
   "execution_count": 16,
   "metadata": {
    "colab": {
     "base_uri": "https://localhost:8080/"
    },
    "executionInfo": {
     "elapsed": 10,
     "status": "ok",
     "timestamp": 1668443455503,
     "user": {
      "displayName": "Kamil Pabijan",
      "userId": "18001500138958413010"
     },
     "user_tz": -60
    },
    "id": "3IdOFZVbB2h5",
    "outputId": "d59a7d10-c503-4a4e-8e7d-05bf8e81938d"
   },
   "outputs": [
    {
     "name": "stdout",
     "output_type": "stream",
     "text": [
      "Nowa waga:\n",
      "[0.1400156]\n"
     ]
    }
   ],
   "source": [
    "# aktualizacja wagi w1\n",
    "print(\"Nowa waga:\")\n",
    "w1_new = w1 - learning_rate * d_E_total_w1 \n",
    "print(w1_new)"
   ]
  },
  {
   "cell_type": "code",
   "execution_count": 17,
   "metadata": {
    "colab": {
     "base_uri": "https://localhost:8080/"
    },
    "executionInfo": {
     "elapsed": 8,
     "status": "ok",
     "timestamp": 1668443455503,
     "user": {
      "displayName": "Kamil Pabijan",
      "userId": "18001500138958413010"
     },
     "user_tz": -60
    },
    "id": "5fpgeG0x6FGk",
    "outputId": "5c01fd56-2c24-4785-b47d-2fb3e18da29b"
   },
   "outputs": [
    {
     "data": {
      "text/plain": [
       "array([0.078096], dtype=float32)"
      ]
     },
     "execution_count": 17,
     "metadata": {},
     "output_type": "execute_result"
    }
   ],
   "source": [
    "# całość należy powtórzyć dla wago w0\n",
    "d_E_total_w0 = np.mean(d_E_total)\n",
    "w0_new = w0 - learning_rate * d_E_total_w0 \n",
    "w0_new"
   ]
  },
  {
   "cell_type": "markdown",
   "metadata": {
    "id": "4jwI5ANJWp0r"
   },
   "source": [
    "<hr>"
   ]
  },
  {
   "cell_type": "code",
   "execution_count": 18,
   "metadata": {
    "executionInfo": {
     "elapsed": 7,
     "status": "ok",
     "timestamp": 1668443455503,
     "user": {
      "displayName": "Kamil Pabijan",
      "userId": "18001500138958413010"
     },
     "user_tz": -60
    },
    "id": "vbNUwyzp9dJN"
   },
   "outputs": [],
   "source": [
    "# Wykonajmy to samo przużyciu tensorflow\n",
    "# na początku zdefiniujmy optimizer - SDG\n",
    "optimizer = tf.keras.optimizers.SGD(learning_rate=learning_rate)\n",
    "\n",
    "# nestępnie musimu skompilować model\n",
    "model.compile(optimizer=optimizer,\n",
    "              loss=mse)"
   ]
  },
  {
   "cell_type": "code",
   "execution_count": 19,
   "metadata": {
    "colab": {
     "base_uri": "https://localhost:8080/"
    },
    "executionInfo": {
     "elapsed": 8,
     "status": "ok",
     "timestamp": 1668443455504,
     "user": {
      "displayName": "Kamil Pabijan",
      "userId": "18001500138958413010"
     },
     "user_tz": -60
    },
    "id": "d9P35VfU_b4e",
    "outputId": "c0b7cc56-3032-4907-a7ea-920db65abd1a"
   },
   "outputs": [
    {
     "name": "stdout",
     "output_type": "stream",
     "text": [
      "1/1 [==============================] - 0s 54ms/step - loss: 15.7115\n"
     ]
    },
    {
     "data": {
      "text/plain": [
       "15.71153450012207"
      ]
     },
     "execution_count": 19,
     "metadata": {},
     "output_type": "execute_result"
    }
   ],
   "source": [
    "# pamiętamy, że model był zdefiniowany wcześniej, \n",
    "# wagi zainicjalizowane (przez nas), \n",
    "# dzięki czemu możemy dokonać ewaluacji\n",
    "# wynikiem będzie wartość straty\n",
    "\n",
    "model.evaluate(X, y)"
   ]
  },
  {
   "cell_type": "code",
   "execution_count": 20,
   "metadata": {
    "colab": {
     "base_uri": "https://localhost:8080/"
    },
    "executionInfo": {
     "elapsed": 570,
     "status": "ok",
     "timestamp": 1668443456067,
     "user": {
      "displayName": "Kamil Pabijan",
      "userId": "18001500138958413010"
     },
     "user_tz": -60
    },
    "id": "u7qYCuElKcfS",
    "outputId": "6740aa2a-f0df-43e4-cc1e-3e5db2b87473"
   },
   "outputs": [
    {
     "name": "stdout",
     "output_type": "stream",
     "text": [
      "1/1 [==============================] - 0s 107ms/step - loss: 15.7115\n"
     ]
    },
    {
     "data": {
      "text/plain": [
       "<keras.callbacks.History at 0x296963580>"
      ]
     },
     "execution_count": 20,
     "metadata": {},
     "output_type": "execute_result"
    }
   ],
   "source": [
    "# teraz musimy dokonać aktualizacji wag, czyli rozpocząć proces uczenia\n",
    "# do tego służy metoda .fit\n",
    "# w naszym przypadku chcemy dokonać tylko jednej aktualizacji, \n",
    "# stąd ustawimy ilość epok na 1.\n",
    "\n",
    "model.fit(X, y, epochs=1)"
   ]
  },
  {
   "cell_type": "code",
   "execution_count": 21,
   "metadata": {
    "executionInfo": {
     "elapsed": 9,
     "status": "ok",
     "timestamp": 1668443456068,
     "user": {
      "displayName": "Kamil Pabijan",
      "userId": "18001500138958413010"
     },
     "user_tz": -60
    },
    "id": "AJrK2LKT8kxR"
   },
   "outputs": [],
   "source": [
    "# zwróćmy uwagę na stratę - loss: 15.7115\n",
    "# skoro model wykonał jeden krok to spodziewalibyśmy się, że się czegoś nauczył,\n",
    "# a tu strata jest dokłądnie taka sama jak w przypadku wstępnej ewaluacji.\n",
    "# Pamiętamy jednak, że proces uczenia sieci neuronowej \n",
    "# składa się z dwóch etapów - forward propagataion i backward propagation.\n",
    "# Wartość straty jest po kazana po pierwszym kroku, forward propagation.\n",
    "# Następnie wynkonywany jest proces bacwarrd propagation czyli następuje \n",
    "# aktualizacja wag. \n",
    "# Żeby sprawdzić bład po pierwszej epoce musimy dokonać ewaluacji jeszcze raz. "
   ]
  },
  {
   "cell_type": "code",
   "execution_count": 22,
   "metadata": {
    "colab": {
     "base_uri": "https://localhost:8080/"
    },
    "executionInfo": {
     "elapsed": 9,
     "status": "ok",
     "timestamp": 1668443456068,
     "user": {
      "displayName": "Kamil Pabijan",
      "userId": "18001500138958413010"
     },
     "user_tz": -60
    },
    "id": "jE6hsoQv9a3G",
    "outputId": "c2919e3b-8fc2-4ba4-fc91-f4c7dd038612"
   },
   "outputs": [
    {
     "name": "stdout",
     "output_type": "stream",
     "text": [
      "1/1 [==============================] - 0s 8ms/step - loss: 14.9510\n"
     ]
    },
    {
     "data": {
      "text/plain": [
       "14.950956344604492"
      ]
     },
     "execution_count": 22,
     "metadata": {},
     "output_type": "execute_result"
    }
   ],
   "source": [
    "# Jak widzimy błąd jest mniejszy/inny więc model sie czegoś nauczył.\n",
    "\n",
    "model.evaluate(X, y)"
   ]
  },
  {
   "cell_type": "code",
   "execution_count": 23,
   "metadata": {
    "colab": {
     "base_uri": "https://localhost:8080/"
    },
    "executionInfo": {
     "elapsed": 5,
     "status": "ok",
     "timestamp": 1668443456068,
     "user": {
      "displayName": "Kamil Pabijan",
      "userId": "18001500138958413010"
     },
     "user_tz": -60
    },
    "id": "pCiDrUG_K4p6",
    "outputId": "9105993d-d497-4bd7-ccec-0ddc1ca0f09b"
   },
   "outputs": [
    {
     "data": {
      "text/plain": [
       "[array([[0.1400156]], dtype=float32), array([0.078096], dtype=float32)]"
      ]
     },
     "execution_count": 23,
     "metadata": {},
     "output_type": "execute_result"
    }
   ],
   "source": [
    "# dodatkowo sprawdźmy wagi:\n",
    "\n",
    "\n",
    "new_layer = model.layers[0].get_weights()\n",
    "new_layer"
   ]
  },
  {
   "cell_type": "code",
   "execution_count": 24,
   "metadata": {
    "executionInfo": {
     "elapsed": 4,
     "status": "ok",
     "timestamp": 1668443456068,
     "user": {
      "displayName": "Kamil Pabijan",
      "userId": "18001500138958413010"
     },
     "user_tz": -60
    },
    "id": "fmasOJ-fXD8q"
   },
   "outputs": [],
   "source": [
    "# tak samo jak poprzednio - Matematyka działa :) "
   ]
  },
  {
   "cell_type": "code",
   "execution_count": null,
   "metadata": {},
   "outputs": [],
   "source": []
  }
 ],
 "metadata": {
  "colab": {
   "authorship_tag": "ABX9TyNOI+QtW0GRDbi62myKO8H7",
   "provenance": []
  },
  "kernelspec": {
   "display_name": "Python 3 (ipykernel)",
   "language": "python",
   "name": "python3"
  },
  "language_info": {
   "codemirror_mode": {
    "name": "ipython",
    "version": 3
   },
   "file_extension": ".py",
   "mimetype": "text/x-python",
   "name": "python",
   "nbconvert_exporter": "python",
   "pygments_lexer": "ipython3",
   "version": "3.10.6"
  }
 },
 "nbformat": 4,
 "nbformat_minor": 4
}
